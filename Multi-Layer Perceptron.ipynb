{
 "cells": [
  {
   "cell_type": "markdown",
   "metadata": {},
   "source": [
    "# <b>CS156 (Introduction to AI), Fall 2021</b>\n",
    "# <u><b>Homework 1 submission</b></u>"
   ]
  },
  {
   "cell_type": "markdown",
   "metadata": {},
   "source": [
    "### Roster Name: David Danialy\n",
    "### Student ID: 011187150  \n",
    "### Email address: david.danialy@sjsu.edu\n",
    "Any special notes or anything you would like to communicate to me about this homework submission goes in here."
   ]
  },
  {
   "cell_type": "markdown",
   "metadata": {},
   "source": [
    "##  <u>References and sources </u>"
   ]
  },
  {
   "cell_type": "markdown",
   "metadata": {},
   "source": [
    "https://www.tutorialspoint.com/matplotlib/matplotlib_violin_plot.htm"
   ]
  },
  {
   "cell_type": "markdown",
   "metadata": {},
   "source": [
    "##  <u>Solution</u>"
   ]
  },
  {
   "cell_type": "markdown",
   "metadata": {},
   "source": [
    "#### Load libraries and set random number generator seed"
   ]
  },
  {
   "cell_type": "code",
   "execution_count": 1,
   "metadata": {},
   "outputs": [],
   "source": [
    "import numpy as np\n",
    "import matplotlib.pyplot as plt\n",
    "from sklearn.model_selection import train_test_split\n",
    "from sklearn.neural_network import MLPClassifier\n",
    "from sklearn.datasets  import load_digits\n",
    "from sklearn.model_selection import cross_val_score"
   ]
  },
  {
   "cell_type": "code",
   "execution_count": 2,
   "metadata": {},
   "outputs": [],
   "source": [
    "#Load the dataset\n",
    "data = load_digits()\n",
    "\n",
    "#Separate X and Y\n",
    "n_samples = len(data.images)\n",
    "X = data.images.reshape((n_samples, -1))\n",
    "Y = data.target\n",
    "\n",
    "#Normalize X values\n",
    "X = X.astype(\"float32\") / 255\n",
    "\n",
    "#Split the data into train and test sets\n",
    "X_train, X_test, Y_train, Y_test = train_test_split(X, Y, test_size=0.2, random_state=0, stratify=Y)"
   ]
  },
  {
   "cell_type": "markdown",
   "metadata": {},
   "source": [
    "#### Code the solution"
   ]
  },
  {
   "cell_type": "code",
   "execution_count": 3,
   "metadata": {},
   "outputs": [],
   "source": [
    "#Initialize lists to store cross validation and regular accuracies\n",
    "accuracies = []\n",
    "cross_val_accuracies = []"
   ]
  },
  {
   "cell_type": "code",
   "execution_count": 4,
   "metadata": {},
   "outputs": [
    {
     "name": "stderr",
     "output_type": "stream",
     "text": [
      "C:\\Users\\david\\AppData\\Local\\Programs\\Python\\Python39\\lib\\site-packages\\sklearn\\neural_network\\_multilayer_perceptron.py:614: ConvergenceWarning: Stochastic Optimizer: Maximum iterations (300) reached and the optimization hasn't converged yet.\n",
      "  warnings.warn(\n"
     ]
    }
   ],
   "source": [
    "#Create the first MLP model\n",
    "model = MLPClassifier(random_state=1, max_iter=300)\n",
    "\n",
    "#Train and score the model for stratified K-folds and regular\n",
    "cross_val_accuracies.append(cross_val_score(model, X_train, Y_train, cv=5, n_jobs=-1))\n",
    "model.fit(X_train, Y_train)\n",
    "accuracies.append(model.score(X_test, Y_test))"
   ]
  },
  {
   "cell_type": "code",
   "execution_count": 5,
   "metadata": {},
   "outputs": [
    {
     "name": "stderr",
     "output_type": "stream",
     "text": [
      "C:\\Users\\david\\AppData\\Local\\Programs\\Python\\Python39\\lib\\site-packages\\sklearn\\neural_network\\_multilayer_perceptron.py:614: ConvergenceWarning: Stochastic Optimizer: Maximum iterations (200) reached and the optimization hasn't converged yet.\n",
      "  warnings.warn(\n"
     ]
    }
   ],
   "source": [
    "#Create the second MLP model\n",
    "model = MLPClassifier(hidden_layer_sizes=(400, 150, 50),activation='relu')\n",
    "\n",
    "#Train and score the model for stratified K-folds and regular\n",
    "cross_val_accuracies.append(cross_val_score(model, X_train, Y_train, cv=5, n_jobs=-1))\n",
    "model.fit(X_train, Y_train)\n",
    "accuracies.append(model.score(X_test, Y_test))"
   ]
  },
  {
   "cell_type": "code",
   "execution_count": 6,
   "metadata": {},
   "outputs": [
    {
     "name": "stderr",
     "output_type": "stream",
     "text": [
      "C:\\Users\\david\\AppData\\Local\\Programs\\Python\\Python39\\lib\\site-packages\\sklearn\\neural_network\\_multilayer_perceptron.py:614: ConvergenceWarning: Stochastic Optimizer: Maximum iterations (200) reached and the optimization hasn't converged yet.\n",
      "  warnings.warn(\n"
     ]
    }
   ],
   "source": [
    "#Create the third MLP model\n",
    "model = MLPClassifier(hidden_layer_sizes=(400, 150, 50),activation='logistic')\n",
    "\n",
    "#Train and score the model for stratified K-folds and regular\n",
    "cross_val_accuracies.append(cross_val_score(model, X_train, Y_train, cv=5, n_jobs=-1))\n",
    "model.fit(X_train, Y_train)\n",
    "accuracies.append(model.score(X_test, Y_test))"
   ]
  },
  {
   "cell_type": "code",
   "execution_count": 7,
   "metadata": {},
   "outputs": [
    {
     "name": "stderr",
     "output_type": "stream",
     "text": [
      "C:\\Users\\david\\AppData\\Local\\Programs\\Python\\Python39\\lib\\site-packages\\sklearn\\neural_network\\_multilayer_perceptron.py:614: ConvergenceWarning: Stochastic Optimizer: Maximum iterations (200) reached and the optimization hasn't converged yet.\n",
      "  warnings.warn(\n"
     ]
    }
   ],
   "source": [
    "#Create the fourth MLP model\n",
    "model = MLPClassifier(hidden_layer_sizes=(64, 32, 8),activation='relu')\n",
    "\n",
    "#Train and score the model for stratified K-folds and regular\n",
    "cross_val_accuracies.append(cross_val_score(model, X_train, Y_train, cv=5, n_jobs=-1))\n",
    "model.fit(X_train, Y_train)\n",
    "accuracies.append(model.score(X_test, Y_test))"
   ]
  },
  {
   "cell_type": "code",
   "execution_count": 8,
   "metadata": {},
   "outputs": [
    {
     "name": "stderr",
     "output_type": "stream",
     "text": [
      "C:\\Users\\david\\AppData\\Local\\Programs\\Python\\Python39\\lib\\site-packages\\sklearn\\neural_network\\_multilayer_perceptron.py:614: ConvergenceWarning: Stochastic Optimizer: Maximum iterations (200) reached and the optimization hasn't converged yet.\n",
      "  warnings.warn(\n"
     ]
    }
   ],
   "source": [
    "#Create the fifth MLP model\n",
    "model = MLPClassifier(hidden_layer_sizes=(32, 16),activation='relu')\n",
    "\n",
    "#Train and score the model for stratified K-folds and regular\n",
    "cross_val_accuracies.append(cross_val_score(model, X_train, Y_train, cv=5, n_jobs=-1))\n",
    "model.fit(X_train, Y_train)\n",
    "accuracies.append(model.score(X_test, Y_test))"
   ]
  },
  {
   "cell_type": "code",
   "execution_count": 9,
   "metadata": {},
   "outputs": [
    {
     "name": "stderr",
     "output_type": "stream",
     "text": [
      "C:\\Users\\david\\AppData\\Local\\Programs\\Python\\Python39\\lib\\site-packages\\sklearn\\neural_network\\_multilayer_perceptron.py:614: ConvergenceWarning: Stochastic Optimizer: Maximum iterations (200) reached and the optimization hasn't converged yet.\n",
      "  warnings.warn(\n"
     ]
    }
   ],
   "source": [
    "#Create the sixth MLP model\n",
    "model = MLPClassifier(hidden_layer_sizes=(120, 64, 16),activation='relu')\n",
    "\n",
    "#Train and score the model for stratified K-folds and regular\n",
    "cross_val_accuracies.append(cross_val_score(model, X_train, Y_train, cv=5, n_jobs=-1))\n",
    "model.fit(X_train, Y_train)\n",
    "accuracies.append(model.score(X_test, Y_test))"
   ]
  },
  {
   "cell_type": "code",
   "execution_count": 10,
   "metadata": {},
   "outputs": [
    {
     "name": "stderr",
     "output_type": "stream",
     "text": [
      "C:\\Users\\david\\AppData\\Local\\Programs\\Python\\Python39\\lib\\site-packages\\sklearn\\neural_network\\_multilayer_perceptron.py:614: ConvergenceWarning: Stochastic Optimizer: Maximum iterations (200) reached and the optimization hasn't converged yet.\n",
      "  warnings.warn(\n"
     ]
    }
   ],
   "source": [
    "#Create the seventh MLP model\n",
    "model = MLPClassifier(hidden_layer_sizes=(320, 120, 32),activation='relu')\n",
    "\n",
    "#Train and score the model for stratified K-folds and regular\n",
    "cross_val_accuracies.append(cross_val_score(model, X_train, Y_train, cv=5, n_jobs=-1))\n",
    "model.fit(X_train, Y_train)\n",
    "accuracies.append(model.score(X_test, Y_test))"
   ]
  },
  {
   "cell_type": "code",
   "execution_count": 11,
   "metadata": {},
   "outputs": [
    {
     "data": {
      "image/png": "[encoded data removed]",
      "text/plain": [
       "<Figure size 432x288 with 1 Axes>"
      ]
     },
     "metadata": {
      "needs_background": "light"
     },
     "output_type": "display_data"
    }
   ],
   "source": [
    "#Create the violin plots\n",
    "fig = plt.figure()\n",
    "ax = fig.add_axes([0,0,1,1])\n",
    "ax.violinplot(cross_val_accuracies)\n",
    "ax.plot([1, 2, 3, 4, 5, 6, 7], accuracies, color='red', marker='X', linestyle='none', markersize=10)\n",
    "plt.xlabel(\"Model Number\")\n",
    "plt.ylabel(\"Accuracy\")\n",
    "plt.show()"
   ]
  }
 ],
 "metadata": {
  "interpreter": {
   "hash": "d65f8af9b1347936d5c0a715a1a101b7602968bee42a1bc2161adfc924f1cbb0"
  },
  "kernelspec": {
   "display_name": "Python 3.9.4 64-bit",
   "name": "python3"
  },
  "language_info": {
   "codemirror_mode": {
    "name": "ipython",
    "version": 3
   },
   "file_extension": ".py",
   "mimetype": "text/x-python",
   "name": "python",
   "nbconvert_exporter": "python",
   "pygments_lexer": "ipython3",
   "version": "3.9.4"
  }
 },
 "nbformat": 4,
 "nbformat_minor": 4
}
