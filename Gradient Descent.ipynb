{
 "cells": [
  {
   "cell_type": "markdown",
   "source": [
    "# <b>CS156 (Introduction to AI), Fall 2021</b>\n",
    "# <u><b>Homework 1 submission</b></u>"
   ],
   "metadata": {}
  },
  {
   "cell_type": "markdown",
   "source": [
    "### Roster Name: David Danialy\r\n",
    "### Preferred Name (if different): Chosen Name\r\n",
    "### Student ID: 011187150\r\n",
    "### Email address: david.danialy@sjsu.edu"
   ],
   "metadata": {}
  },
  {
   "cell_type": "markdown",
   "source": [
    "##  <u>References and sources </u>"
   ],
   "metadata": {}
  },
  {
   "cell_type": "markdown",
   "source": [],
   "metadata": {}
  },
  {
   "cell_type": "markdown",
   "source": [
    "List all your references and sources here.\n",
    "This includes all sites/discussion boards/blogs/posts/etc. where you grabbed some code examples."
   ],
   "metadata": {}
  },
  {
   "cell_type": "markdown",
   "source": [
    "##  <u>Solution</u>"
   ],
   "metadata": {}
  },
  {
   "cell_type": "markdown",
   "source": [
    "#### Load libraries and set random number generator seed"
   ],
   "metadata": {}
  },
  {
   "cell_type": "code",
   "execution_count": 4,
   "source": [
    "import numpy as np"
   ],
   "outputs": [],
   "metadata": {}
  },
  {
   "cell_type": "code",
   "execution_count": 5,
   "source": [
    "np.random.seed(42)"
   ],
   "outputs": [],
   "metadata": {}
  },
  {
   "cell_type": "markdown",
   "source": [
    "#### Code the solution"
   ],
   "metadata": {}
  },
  {
   "cell_type": "code",
   "execution_count": 6,
   "source": [
    "position = np.random.randint(10) #Get a random number to start at\r\n",
    "print(\"Starting position:\", position)\r\n",
    "\r\n",
    "def derivative(x):\r\n",
    "    return (15 * (x * x) - 20) #Derivative of original function\r\n",
    "\r\n",
    "for i in range(10000): #For 10000 iterations:\r\n",
    "    step = -.001 * derivative(position) #Find the weighted step\r\n",
    "    position += step #Take the step\r\n",
    "print(\"Minimum:\", position)"
   ],
   "outputs": [
    {
     "output_type": "stream",
     "name": "stdout",
     "text": [
      "Starting position: 6\n",
      "Minimum: 1.1547005383792546\n"
     ]
    }
   ],
   "metadata": {}
  }
 ],
 "metadata": {
  "kernelspec": {
   "name": "python3",
   "display_name": "Python 3.9.4 64-bit"
  },
  "language_info": {
   "codemirror_mode": {
    "name": "ipython",
    "version": 3
   },
   "file_extension": ".py",
   "mimetype": "text/x-python",
   "name": "python",
   "nbconvert_exporter": "python",
   "pygments_lexer": "ipython3",
   "version": "3.9.4"
  },
  "interpreter": {
   "hash": "d65f8af9b1347936d5c0a715a1a101b7602968bee42a1bc2161adfc924f1cbb0"
  }
 },
 "nbformat": 4,
 "nbformat_minor": 4
}