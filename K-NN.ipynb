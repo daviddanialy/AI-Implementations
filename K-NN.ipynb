{
 "cells": [
  {
   "cell_type": "markdown",
   "source": [
    "# <b>CS156 (Introduction to AI), Fall 2021</b>\r\n",
    "# <u><b>Homework 2 submission</b></u>"
   ],
   "metadata": {}
  },
  {
   "cell_type": "markdown",
   "source": [
    "### Roster Name: David Danialy\r\n",
    "### Preferred Name (if different): Chosen Name\r\n",
    "### Student ID: 011187150\r\n",
    "### Email address: david.danialy@sjsu.edu"
   ],
   "metadata": {}
  },
  {
   "cell_type": "markdown",
   "source": [
    "##  <u>References and sources </u>"
   ],
   "metadata": {}
  },
  {
   "cell_type": "markdown",
   "source": [
    "Plot code source: https://kanoki.org/2020/08/30/matplotlib-scatter-plot-color-by-category-in-python/"
   ],
   "metadata": {}
  },
  {
   "cell_type": "markdown",
   "source": [
    "##  <u>Solution</u>"
   ],
   "metadata": {}
  },
  {
   "cell_type": "markdown",
   "source": [
    "#### Load libraries and set random number generator seed"
   ],
   "metadata": {}
  },
  {
   "cell_type": "code",
   "execution_count": 67,
   "source": [
    "import pandas as pd\r\n",
    "from statistics import mode\r\n",
    "import numpy as np\r\n",
    "import matplotlib.pyplot as plt"
   ],
   "outputs": [],
   "metadata": {}
  },
  {
   "cell_type": "code",
   "execution_count": 68,
   "source": [
    "np.random.seed(24)"
   ],
   "outputs": [],
   "metadata": {}
  },
  {
   "cell_type": "markdown",
   "source": [
    "#### Code the solution"
   ],
   "metadata": {}
  },
  {
   "cell_type": "code",
   "execution_count": 69,
   "source": [
    "def sortKey(arr):\r\n",
    "    return arr[0]"
   ],
   "outputs": [],
   "metadata": {}
  },
  {
   "cell_type": "code",
   "execution_count": 70,
   "source": [
    "def euclideanDistance(x, y):\r\n",
    "    sum = 0\r\n",
    "\r\n",
    "    #For each dimension in the data points\r\n",
    "    for dimension in range(len(x)):\r\n",
    "        #Sum the squared difference between the two points\r\n",
    "        sum += (x[dimension] - y[dimension])**2 \r\n",
    "\r\n",
    "    #Return the square root of the sum    \r\n",
    "    return sum**.5 "
   ],
   "outputs": [],
   "metadata": {}
  },
  {
   "cell_type": "code",
   "execution_count": 71,
   "source": [
    "def knn(x, data, k=3):\r\n",
    "\r\n",
    "    #Convert the dataframe to a numpy array\r\n",
    "    data = data.to_numpy()\r\n",
    "\r\n",
    "    #Create an array which records distances between x and each data point, returned by distance function\r\n",
    "    distances = []\r\n",
    "\r\n",
    "    #For each entry in data, calculate Euclidean distance between x and that entry\r\n",
    "    count = 0\r\n",
    "    for point in data:\r\n",
    "        distances.append([euclideanDistance(x, point), point[len(point) - 1]])\r\n",
    "        count += 1\r\n",
    "\r\n",
    "    #Sort the array according to distances\r\n",
    "    distances.sort(key=sortKey)\r\n",
    "\r\n",
    "    #Select the classification which has the majority between the k nearest neighbors to x\r\n",
    "    distances = np.array(distances[0:k])\r\n",
    "\r\n",
    "    #Get the column with the classifications\r\n",
    "    distances = distances[:,1]\r\n",
    "\r\n",
    "    #Return the mode of the classifications of the 3 nearest points\r\n",
    "    return mode(distances)\r\n"
   ],
   "outputs": [],
   "metadata": {}
  },
  {
   "cell_type": "code",
   "execution_count": 72,
   "source": [
    "#Testing with 2d values\r\n",
    "train = []\r\n",
    "test = []\r\n",
    "for i in range(40):\r\n",
    "    train.append([np.random.normal(-2, 2), np.random.normal(0, 1), 0])\r\n",
    "    train.append([np.random.normal(2, 2), np.random.normal(0, 1), 1])\r\n",
    "for i in range(10):\r\n",
    "    test.append([np.random.normal(-2, 2), np.random.normal(0, 1), 0])\r\n",
    "    test.append([np.random.normal(2, 2), np.random.normal(0, 1), 1])\r\n",
    "df = pd.DataFrame(train, columns = ['X', 'Y', 'Label'])\r\n",
    "count = 0\r\n",
    "predicted = []\r\n",
    "for point in test:\r\n",
    "    pred = knn(point, df)\r\n",
    "    if (pred == point[len(point) - 1]):\r\n",
    "        count += 1\r\n",
    "    temp = point[:len(point) - 1]\r\n",
    "    temp.append(pred)\r\n",
    "    predicted.append(temp)\r\n",
    "    \r\n",
    "    \r\n",
    "print(\"Accuracy on 2d test dataset: \", str(count / len(test)))\r\n",
    "\r\n",
    "predicted = pd.DataFrame(predicted, columns = ['X', 'Y', 'Label'])\r\n",
    "#Plot code source: https://kanoki.org/2020/08/30/matplotlib-scatter-plot-color-by-category-in-python/\r\n",
    "def plotScatter(data, title):\r\n",
    "    groups = data.groupby('Label')\r\n",
    "    colors = {0: 'blue', 1: 'red'}\r\n",
    "    fig, ax = plt.subplots()\r\n",
    "    for key, group in groups:\r\n",
    "        group.plot(ax=ax, kind='scatter', x='X', y='Y', label=key, color=colors[key], marker='^', s=40)\r\n",
    "    plt.title(title)\r\n",
    "    groups = df.groupby('Label')\r\n",
    "    for key, group in groups:\r\n",
    "        group.plot(ax=ax, kind='scatter', x='X', y='Y', label=key, color=colors[key])\r\n",
    "    plt.show()\r\n",
    "\r\n",
    "plotScatter(predicted, 'Predicted Test Set')\r\n",
    "plotScatter(pd.DataFrame(test, columns = ['X', 'Y', 'Label']), 'Actual Test Set') "
   ],
   "outputs": [
    {
     "output_type": "stream",
     "name": "stdout",
     "text": [
      "Accuracy on 2d test dataset:  0.95\n",
      "[[-3.829485684100497, 1.002739008380571, 0.0], [1.1081860120498885, 0.8262023349433257, 1.0], [-3.7189031252814533, 0.1322099853466142, 0.0], [2.1609548210602014, -0.16226000890266468, 1.0], [-2.0374341596122796, -0.5043458709975351, 0.0], [1.6603583363223415, 1.8426112186273857, 1.0], [-1.5492317014071306, 1.38814214083999, 0.0], [4.840144524454641, 0.5636049391317942, 1.0], [0.456491225933056, 0.48369351016118173, 0.0], [2.0648181038577396, -0.24957800106571285, 1.0], [-3.3308494747289252, -0.8539997533293233, 0.0], [5.874647236762696, 0.010068004378462102, 1.0], [-1.8790404750068954, 0.9459527077682074, 0.0], [-3.740192202791027, 0.3517101159912871, 0.0], [-1.4690206429657406, 0.10571221408927205, 0.0], [0.8446035537058667, -0.4053820254616016, 1.0], [0.18057185528564013, 1.4272715296416023, 0.0], [3.3859617365713897, 0.1852004391428304, 1.0], [-1.7851377744067172, -0.21321305948855895, 0.0], [-0.2629693736823606, 0.3111572482040415, 1.0]]\n"
     ]
    },
    {
     "output_type": "display_data",
     "data": {
      "image/png": "[encoded data removed]",
      "text/plain": [
       "<Figure size 432x288 with 1 Axes>"
      ]
     },
     "metadata": {
      "needs_background": "light"
     }
    },
    {
     "output_type": "display_data",
     "data": {
      "image/png": "[encoded data removed]",
      "text/plain": [
       "<Figure size 432x288 with 1 Axes>"
      ]
     },
     "metadata": {
      "needs_background": "light"
     }
    }
   ],
   "metadata": {}
  },
  {
   "cell_type": "code",
   "execution_count": 73,
   "source": [
    "#Testing with 3d values\r\n",
    "train = []\r\n",
    "test = []\r\n",
    "for i in range(200):\r\n",
    "    train.append([np.random.normal(0, 3), np.random.normal(-3, 1), np.random.normal(-1, 1), 0])\r\n",
    "    train.append([np.random.normal(0, 3), np.random.normal(1, 2), np.random.normal(1, 1), 1])\r\n",
    "    train.append([np.random.normal(0, 3), np.random.normal(3, 1), np.random.normal(4, 1), 2])\r\n",
    "    train.append([np.random.normal(0, 3), np.random.normal(5, 3), np.random.normal(-3, 1), 3])\r\n",
    "for i in range(50):\r\n",
    "    test.append([np.random.normal(0, 3), np.random.normal(-3, 1), np.random.normal(-1, 1), 0])\r\n",
    "    test.append([np.random.normal(0, 3), np.random.normal(1, 2), np.random.normal(1, 1), 1])\r\n",
    "    test.append([np.random.normal(0, 3), np.random.normal(3, 1), np.random.normal(4, 1), 2])\r\n",
    "    test.append([np.random.normal(0, 3), np.random.normal(5, 3), np.random.normal(-3, 1), 3])\r\n",
    "df = pd.DataFrame(train, columns = ['X', 'Y', 'Z', 'Label'])\r\n",
    "count = 0\r\n",
    "predicted = []\r\n",
    "for point in test:\r\n",
    "    pred = knn(point, df)\r\n",
    "    if (pred == point[len(point) - 1]):\r\n",
    "        count += 1\r\n",
    "\r\n",
    "print(\"Accuracy on 3d test dataset: \", str(count / len(test)))"
   ],
   "outputs": [
    {
     "output_type": "stream",
     "name": "stdout",
     "text": [
      "Accuracy on 3d test dataset:  0.98\n"
     ]
    }
   ],
   "metadata": {}
  }
 ],
 "metadata": {
  "kernelspec": {
   "name": "python3",
   "display_name": "Python 3.9.4 64-bit"
  },
  "language_info": {
   "codemirror_mode": {
    "name": "ipython",
    "version": 3
   },
   "file_extension": ".py",
   "mimetype": "text/x-python",
   "name": "python",
   "nbconvert_exporter": "python",
   "pygments_lexer": "ipython3",
   "version": "3.9.4"
  },
  "interpreter": {
   "hash": "d65f8af9b1347936d5c0a715a1a101b7602968bee42a1bc2161adfc924f1cbb0"
  }
 },
 "nbformat": 4,
 "nbformat_minor": 4
}