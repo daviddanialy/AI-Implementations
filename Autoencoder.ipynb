{
 "cells": [
  {
   "cell_type": "markdown",
   "metadata": {},
   "source": [
    "# <b>CS156 (Introduction to AI), Fall 2021</b>\n",
    "# <u><b>Homework 9 submission</b></u>"
   ]
  },
  {
   "cell_type": "markdown",
   "metadata": {},
   "source": [
    "### Roster Name: David Danialy\n",
    "### Student ID: 011187150\n",
    "### Email address: david.danialy@sjsu.edu\n",
    "Any special notes or anything you would like to communicate to me about this homework submission goes in here."
   ]
  },
  {
   "cell_type": "markdown",
   "metadata": {},
   "source": [
    "##  <u>References and sources </u>"
   ]
  },
  {
   "cell_type": "markdown",
   "metadata": {},
   "source": [
    "List all your references and sources here.\n",
    "This includes all sites/discussion boards/blogs/posts/etc. where you grabbed some code examples."
   ]
  },
  {
   "cell_type": "markdown",
   "metadata": {},
   "source": [
    "##  <u>Solution</u>"
   ]
  },
  {
   "cell_type": "markdown",
   "metadata": {},
   "source": [
    "#### Load libraries and set random number generator seed"
   ]
  },
  {
   "cell_type": "code",
   "execution_count": 1,
   "metadata": {},
   "outputs": [],
   "source": [
    "import tensorflow\n",
    "from tensorflow import keras\n",
    "from tensorflow.keras.layers import BatchNormalization\n",
    "from tensorflow.keras.layers import Conv2D\n",
    "from tensorflow.keras.layers import Conv2DTranspose\n",
    "from tensorflow.keras.layers import LeakyReLU\n",
    "from tensorflow.keras.layers import Activation\n",
    "from tensorflow.keras.layers import Flatten\n",
    "from tensorflow.keras.layers import Dense\n",
    "from tensorflow.keras.layers import Reshape\n",
    "from tensorflow.keras.layers import Input\n",
    "from tensorflow.keras.models import Model\n",
    "from tensorflow.keras import backend as K\n",
    "import numpy as np\n",
    "from tensorflow.keras.layers import Dense, Input, Conv2D, LSTM, MaxPool2D, UpSampling2D\n",
    "from sklearn.model_selection import train_test_split\n",
    "import matplotlib.pyplot as plt\n",
    "from tensorflow.keras.models import Model\n",
    "from random import randint\n",
    "import numpy as np\n",
    "from tensorflow.keras import layers"
   ]
  },
  {
   "cell_type": "code",
   "execution_count": 2,
   "metadata": {},
   "outputs": [],
   "source": [
    "np.random.seed(42)"
   ]
  },
  {
   "cell_type": "markdown",
   "metadata": {},
   "source": [
    "#### Code the solution"
   ]
  },
  {
   "cell_type": "code",
   "execution_count": 3,
   "metadata": {},
   "outputs": [],
   "source": [
    "#Load the fashion dataset\n",
    "(X_train_valid, Y_train_valid), (X_test, Y_test) = keras.datasets.fashion_mnist.load_data() "
   ]
  },
  {
   "cell_type": "code",
   "execution_count": 4,
   "metadata": {},
   "outputs": [
    {
     "data": {
      "text/plain": [
       "((48000,), (48000, 784))"
      ]
     },
     "execution_count": 4,
     "metadata": {},
     "output_type": "execute_result"
    }
   ],
   "source": [
    "#Split the training data into training and validation sets\n",
    "X_train, X_validation, Y_train, Y_validation = train_test_split(X_train_valid, Y_train_valid, test_size=0.2, random_state=0, stratify=Y_train_valid)\n",
    "#Flatten the data.\n",
    "X_train_flattened = X_train.reshape((len(X_train), -1))\n",
    "X_validation_flattened = X_validation.reshape((len(X_validation), -1))\n",
    "X_test_flattened = X_test.reshape((len(X_test), -1))\n",
    "Y_train.shape, X_train_flattened.shape\n",
    "#https://stackoverflow.com/questions/48851558/tensorflow-estimator-valueerror-logits-and-labels-must-have-the-same-shape\n",
    "#Y_train = np.asarray(Y_train).astype('float32').reshape((-1,1))\n",
    "#Y_train.shape, X_train_flattened.shape"
   ]
  },
  {
   "cell_type": "code",
   "execution_count": 5,
   "metadata": {},
   "outputs": [
    {
     "name": "stdout",
     "output_type": "stream",
     "text": [
      "Model: \"model\"\n",
      "_________________________________________________________________\n",
      "Layer (type)                 Output Shape              Param #   \n",
      "=================================================================\n",
      "input_1 (InputLayer)         [(None, 784)]             0         \n",
      "_________________________________________________________________\n",
      "dense (Dense)                (None, 128)               100480    \n",
      "_________________________________________________________________\n",
      "dense_1 (Dense)              (None, 64)                8256      \n",
      "_________________________________________________________________\n",
      "dense_2 (Dense)              (None, 32)                2080      \n",
      "_________________________________________________________________\n",
      "dense_3 (Dense)              (None, 64)                2112      \n",
      "_________________________________________________________________\n",
      "dense_4 (Dense)              (None, 128)               8320      \n",
      "_________________________________________________________________\n",
      "dense_5 (Dense)              (None, 784)               101136    \n",
      "=================================================================\n",
      "Total params: 222,384\n",
      "Trainable params: 222,384\n",
      "Non-trainable params: 0\n",
      "_________________________________________________________________\n"
     ]
    }
   ],
   "source": [
    "## input layer\n",
    "input_layer = Input(shape=(784,))   # 28*28\n",
    "\n",
    "## encoding architecture\n",
    "encode_layer1 = Dense(128, activation='relu')(input_layer)\n",
    "encode_layer2 = Dense(64, activation='relu')(encode_layer1)\n",
    "\n",
    "## latent view\n",
    "latent_view   = Dense(32, activation='sigmoid')(encode_layer2)\n",
    "\n",
    "## decoding architecture\n",
    "decode_layer1 = Dense(64, activation='relu')(latent_view)\n",
    "decode_layer2 = Dense(128, activation='relu')(decode_layer1)\n",
    "\n",
    "## output layer\n",
    "output_layer  = Dense(784)(decode_layer2)\n",
    "\n",
    "model = Model(input_layer, output_layer)\n",
    "\n",
    "model.summary()"
   ]
  },
  {
   "cell_type": "code",
   "execution_count": 6,
   "metadata": {},
   "outputs": [
    {
     "name": "stdout",
     "output_type": "stream",
     "text": [
      "Epoch 1/75\n",
      "24/24 [==============================] - 1s 6ms/step - loss: 13306.6709 - val_loss: 13212.9229\n",
      "Epoch 2/75\n",
      "24/24 [==============================] - 0s 3ms/step - loss: 12421.4492 - val_loss: 11348.5908\n",
      "Epoch 3/75\n",
      "24/24 [==============================] - 0s 3ms/step - loss: 9448.1133 - val_loss: 7435.7705\n",
      "Epoch 4/75\n",
      "24/24 [==============================] - 0s 3ms/step - loss: 6234.2095 - val_loss: 5583.7739\n",
      "Epoch 5/75\n",
      "24/24 [==============================] - 0s 3ms/step - loss: 5339.2837 - val_loss: 5231.6704\n",
      "Epoch 6/75\n",
      "24/24 [==============================] - 0s 3ms/step - loss: 5161.3911 - val_loss: 5147.5615\n",
      "Epoch 7/75\n",
      "24/24 [==============================] - 0s 3ms/step - loss: 5077.1611 - val_loss: 5044.9985\n",
      "Epoch 8/75\n",
      "24/24 [==============================] - 0s 3ms/step - loss: 4918.3535 - val_loss: 4842.6543\n",
      "Epoch 9/75\n",
      "24/24 [==============================] - 0s 4ms/step - loss: 4772.3179 - val_loss: 4790.2793\n",
      "Epoch 10/75\n",
      "24/24 [==============================] - 0s 4ms/step - loss: 4693.7588 - val_loss: 4634.4653\n",
      "Epoch 11/75\n",
      "24/24 [==============================] - 0s 4ms/step - loss: 4547.4326 - val_loss: 4433.6021\n",
      "Epoch 12/75\n",
      "24/24 [==============================] - 0s 4ms/step - loss: 4273.1694 - val_loss: 4086.6743\n",
      "Epoch 13/75\n",
      "24/24 [==============================] - 0s 4ms/step - loss: 3917.8950 - val_loss: 3822.6770\n",
      "Epoch 14/75\n",
      "24/24 [==============================] - 0s 4ms/step - loss: 3703.6589 - val_loss: 3656.0471\n",
      "Epoch 15/75\n",
      "24/24 [==============================] - 0s 4ms/step - loss: 3584.6494 - val_loss: 3554.7800\n",
      "Epoch 16/75\n",
      "24/24 [==============================] - 0s 4ms/step - loss: 3475.9519 - val_loss: 3455.1431\n",
      "Epoch 17/75\n",
      "24/24 [==============================] - 0s 3ms/step - loss: 3368.9294 - val_loss: 3344.0706\n",
      "Epoch 18/75\n",
      "24/24 [==============================] - 0s 3ms/step - loss: 3275.0557 - val_loss: 3265.0039\n",
      "Epoch 19/75\n",
      "24/24 [==============================] - 0s 4ms/step - loss: 3195.6580 - val_loss: 3217.0127\n",
      "Epoch 20/75\n",
      "24/24 [==============================] - 0s 4ms/step - loss: 3152.3870 - val_loss: 3186.5254\n",
      "Epoch 21/75\n",
      "24/24 [==============================] - 0s 4ms/step - loss: 3127.8916 - val_loss: 3142.2334\n",
      "Epoch 22/75\n",
      "24/24 [==============================] - 0s 3ms/step - loss: 3082.9561 - val_loss: 3113.9463\n",
      "Epoch 23/75\n",
      "24/24 [==============================] - 0s 4ms/step - loss: 3051.0969 - val_loss: 3090.6489\n",
      "Epoch 24/75\n",
      "24/24 [==============================] - 0s 3ms/step - loss: 3022.5713 - val_loss: 3046.5774\n",
      "Epoch 25/75\n",
      "24/24 [==============================] - 0s 3ms/step - loss: 2988.2986 - val_loss: 3042.4614\n",
      "Epoch 26/75\n",
      "24/24 [==============================] - 0s 4ms/step - loss: 2962.3501 - val_loss: 2997.0952\n",
      "Epoch 27/75\n",
      "24/24 [==============================] - 0s 4ms/step - loss: 2914.8738 - val_loss: 2944.5413\n",
      "Epoch 28/75\n",
      "24/24 [==============================] - 0s 4ms/step - loss: 2883.7097 - val_loss: 2931.5222\n",
      "Epoch 29/75\n",
      "24/24 [==============================] - 0s 4ms/step - loss: 2856.1873 - val_loss: 2926.9507\n",
      "Epoch 30/75\n",
      "24/24 [==============================] - 0s 4ms/step - loss: 2836.6113 - val_loss: 2887.9260\n",
      "Epoch 31/75\n",
      "24/24 [==============================] - 0s 4ms/step - loss: 2800.0979 - val_loss: 2839.4824\n",
      "Epoch 32/75\n",
      "24/24 [==============================] - 0s 4ms/step - loss: 2781.4512 - val_loss: 2840.6396\n",
      "Epoch 33/75\n",
      "24/24 [==============================] - 0s 3ms/step - loss: 2755.2644 - val_loss: 2795.1270\n",
      "Epoch 34/75\n",
      "24/24 [==============================] - 0s 3ms/step - loss: 2723.0076 - val_loss: 2780.7729\n",
      "Epoch 35/75\n",
      "24/24 [==============================] - 0s 3ms/step - loss: 2690.5947 - val_loss: 2741.9067\n",
      "Epoch 36/75\n",
      "24/24 [==============================] - 0s 3ms/step - loss: 2669.4866 - val_loss: 2727.5066\n",
      "Epoch 37/75\n",
      "24/24 [==============================] - 0s 3ms/step - loss: 2650.4907 - val_loss: 2698.0076\n",
      "Epoch 38/75\n",
      "24/24 [==============================] - 0s 3ms/step - loss: 2615.9036 - val_loss: 2714.5979\n",
      "Epoch 39/75\n",
      "24/24 [==============================] - 0s 4ms/step - loss: 2612.1912 - val_loss: 2649.5889\n",
      "Epoch 40/75\n",
      "24/24 [==============================] - 0s 3ms/step - loss: 2582.9038 - val_loss: 2629.0291\n",
      "Epoch 41/75\n",
      "24/24 [==============================] - 0s 3ms/step - loss: 2549.0928 - val_loss: 2610.3723\n",
      "Epoch 42/75\n",
      "24/24 [==============================] - 0s 3ms/step - loss: 2529.3550 - val_loss: 2587.1277\n",
      "Epoch 43/75\n",
      "24/24 [==============================] - 0s 3ms/step - loss: 2497.2512 - val_loss: 2560.5874\n",
      "Epoch 44/75\n",
      "24/24 [==============================] - 0s 3ms/step - loss: 2473.4866 - val_loss: 2548.4141\n",
      "Epoch 45/75\n",
      "24/24 [==============================] - 0s 3ms/step - loss: 2467.7546 - val_loss: 2523.2524\n",
      "Epoch 46/75\n",
      "24/24 [==============================] - 0s 4ms/step - loss: 2444.2864 - val_loss: 2509.8379\n",
      "Epoch 47/75\n",
      "24/24 [==============================] - 0s 3ms/step - loss: 2441.9429 - val_loss: 2524.0081\n",
      "Epoch 48/75\n",
      "24/24 [==============================] - 0s 3ms/step - loss: 2425.9519 - val_loss: 2486.7561\n",
      "Epoch 49/75\n",
      "24/24 [==============================] - 0s 3ms/step - loss: 2409.4592 - val_loss: 2476.9924\n",
      "Epoch 50/75\n",
      "24/24 [==============================] - 0s 3ms/step - loss: 2404.0540 - val_loss: 2446.3750\n",
      "Epoch 51/75\n",
      "24/24 [==============================] - 0s 3ms/step - loss: 2378.6101 - val_loss: 2452.9617\n",
      "Epoch 52/75\n",
      "24/24 [==============================] - 0s 3ms/step - loss: 2371.1367 - val_loss: 2442.4844\n",
      "Epoch 53/75\n",
      "24/24 [==============================] - 0s 3ms/step - loss: 2362.4941 - val_loss: 2455.8447\n",
      "Epoch 54/75\n",
      "24/24 [==============================] - 0s 3ms/step - loss: 2363.9634 - val_loss: 2447.0752\n",
      "Epoch 55/75\n",
      "24/24 [==============================] - 0s 3ms/step - loss: 2336.4834 - val_loss: 2419.9062\n",
      "Epoch 56/75\n",
      "24/24 [==============================] - 0s 3ms/step - loss: 2329.8157 - val_loss: 2396.6670\n",
      "Epoch 57/75\n",
      "24/24 [==============================] - 0s 3ms/step - loss: 2318.6077 - val_loss: 2389.4058\n",
      "Epoch 58/75\n",
      "24/24 [==============================] - 0s 4ms/step - loss: 2315.3684 - val_loss: 2373.8745\n",
      "Epoch 59/75\n",
      "24/24 [==============================] - 0s 4ms/step - loss: 2305.3496 - val_loss: 2390.8533\n",
      "Epoch 60/75\n",
      "24/24 [==============================] - 0s 4ms/step - loss: 2303.0044 - val_loss: 2357.5798\n",
      "Epoch 61/75\n",
      "24/24 [==============================] - 0s 4ms/step - loss: 2281.2898 - val_loss: 2349.7129\n",
      "Epoch 62/75\n",
      "24/24 [==============================] - 0s 4ms/step - loss: 2276.7722 - val_loss: 2341.3105\n",
      "Epoch 63/75\n",
      "24/24 [==============================] - 0s 4ms/step - loss: 2272.3542 - val_loss: 2343.5486\n",
      "Epoch 64/75\n",
      "24/24 [==============================] - 0s 4ms/step - loss: 2278.0352 - val_loss: 2357.0845\n",
      "Epoch 65/75\n",
      "24/24 [==============================] - 0s 4ms/step - loss: 2264.0286 - val_loss: 2309.6887\n",
      "Epoch 66/75\n",
      "24/24 [==============================] - 0s 3ms/step - loss: 2247.1553 - val_loss: 2313.4062\n",
      "Epoch 67/75\n",
      "24/24 [==============================] - 0s 3ms/step - loss: 2248.6394 - val_loss: 2315.6484\n",
      "Epoch 68/75\n",
      "24/24 [==============================] - 0s 3ms/step - loss: 2257.0417 - val_loss: 2303.1045\n",
      "Epoch 69/75\n",
      "24/24 [==============================] - 0s 3ms/step - loss: 2231.9722 - val_loss: 2303.8767\n",
      "Epoch 70/75\n",
      "24/24 [==============================] - 0s 3ms/step - loss: 2230.1533 - val_loss: 2289.0876\n",
      "Epoch 71/75\n",
      "24/24 [==============================] - 0s 3ms/step - loss: 2210.0205 - val_loss: 2280.2800\n",
      "Epoch 72/75\n",
      "24/24 [==============================] - 0s 3ms/step - loss: 2205.4834 - val_loss: 2280.8181\n",
      "Epoch 73/75\n",
      "24/24 [==============================] - 0s 3ms/step - loss: 2202.0488 - val_loss: 2273.9719\n",
      "Epoch 74/75\n",
      "24/24 [==============================] - 0s 3ms/step - loss: 2203.9412 - val_loss: 2278.6379\n",
      "Epoch 75/75\n",
      "24/24 [==============================] - 0s 3ms/step - loss: 2195.5540 - val_loss: 2260.5798\n"
     ]
    },
    {
     "data": {
      "text/plain": [
       "<tensorflow.python.keras.callbacks.History at 0x234e3d0fac0>"
      ]
     },
     "execution_count": 6,
     "metadata": {},
     "output_type": "execute_result"
    }
   ],
   "source": [
    "model.compile(optimizer='adam', loss='mse')\n",
    "\n",
    "model.fit(X_train_flattened, X_train_flattened,\n",
    "                epochs=75,\n",
    "                batch_size=2048,\n",
    "                shuffle=True,\n",
    "                validation_data=(X_validation_flattened, X_validation_flattened))"
   ]
  },
  {
   "cell_type": "code",
   "execution_count": 7,
   "metadata": {},
   "outputs": [
    {
     "data": {
      "image/png": "[encoded data removed]",
      "text/plain": [
       "<Figure size 1440x288 with 20 Axes>"
      ]
     },
     "metadata": {
      "needs_background": "light"
     },
     "output_type": "display_data"
    }
   ],
   "source": [
    "predictions = model.predict(X_test_flattened)\n",
    "\n",
    "n = 10\n",
    "plt.figure(figsize=(20, 4))\n",
    "for i in range(n):\n",
    "    # original\n",
    "    ax = plt.subplot(2, n, i + 1)\n",
    "    plt.imshow(X_test_flattened[i].reshape(28, 28))\n",
    "    plt.gray()\n",
    "    ax.get_xaxis().set_visible(False)\n",
    "    ax.get_yaxis().set_visible(False)\n",
    "\n",
    "    # reconstruction\n",
    "    ax = plt.subplot(2, n, i + 1 + n)\n",
    "    plt.imshow(predictions[i].reshape(28, 28))\n",
    "    plt.gray()\n",
    "    ax.get_xaxis().set_visible(False)\n",
    "    ax.get_yaxis().set_visible(False)\n",
    "plt.show()"
   ]
  },
  {
   "cell_type": "code",
   "execution_count": 8,
   "metadata": {},
   "outputs": [],
   "source": [
    "noise_factor = .4\n",
    "x_train_noisy = X_train + noise_factor * np.random.normal(loc=0.0, scale=1.0, size=X_train.shape) \n",
    "x_validation_noisy = X_validation + noise_factor * np.random.normal(loc=0.0, scale=1.0, size=X_validation.shape) \n",
    "x_test_noisy = X_test + noise_factor * np.random.normal(loc=0.0, scale=1.0, size=X_test.shape) \n",
    "\n",
    "x_train_noisy = np.clip(x_train_noisy, 0., 1.)\n",
    "x_validation_noisy = np.clip(x_validation_noisy, 0., 1.)\n",
    "x_test_noisy = np.clip(x_test_noisy, 0., 1.)\n",
    "\n",
    "x_train_noisy = x_train_noisy.reshape(-1, 28, 28, 1)\n",
    "x_validation_noisy = x_validation_noisy.reshape(-1, 28, 28, 1)\n",
    "x_test_noisy = x_test_noisy.reshape(-1, 28, 28, 1)"
   ]
  },
  {
   "cell_type": "code",
   "execution_count": 9,
   "metadata": {},
   "outputs": [
    {
     "data": {
      "image/png": "[encoded data removed]",
      "text/plain": [
       "<Figure size 1440x144 with 10 Axes>"
      ]
     },
     "metadata": {
      "needs_background": "light"
     },
     "output_type": "display_data"
    }
   ],
   "source": [
    "n = 10\n",
    "plt.figure(figsize=(20, 2))\n",
    "for i in range(1, n + 1):\n",
    "    ax = plt.subplot(1, n, i)\n",
    "    plt.imshow(x_test_noisy[i].reshape(28, 28))\n",
    "    plt.gray()\n",
    "    ax.get_xaxis().set_visible(False)\n",
    "    ax.get_yaxis().set_visible(False)\n",
    "plt.show()"
   ]
  },
  {
   "cell_type": "code",
   "execution_count": 10,
   "metadata": {},
   "outputs": [
    {
     "name": "stdout",
     "output_type": "stream",
     "text": [
      "Model: \"model_1\"\n",
      "_________________________________________________________________\n",
      "Layer (type)                 Output Shape              Param #   \n",
      "=================================================================\n",
      "input_2 (InputLayer)         [(None, 28, 28, 1)]       0         \n",
      "_________________________________________________________________\n",
      "conv2d (Conv2D)              (None, 28, 28, 32)        320       \n",
      "_________________________________________________________________\n",
      "max_pooling2d (MaxPooling2D) (None, 14, 14, 32)        0         \n",
      "_________________________________________________________________\n",
      "conv2d_1 (Conv2D)            (None, 14, 14, 32)        9248      \n",
      "_________________________________________________________________\n",
      "max_pooling2d_1 (MaxPooling2 (None, 7, 7, 32)          0         \n",
      "_________________________________________________________________\n",
      "conv2d_2 (Conv2D)            (None, 7, 7, 32)          9248      \n",
      "_________________________________________________________________\n",
      "up_sampling2d (UpSampling2D) (None, 14, 14, 32)        0         \n",
      "_________________________________________________________________\n",
      "conv2d_3 (Conv2D)            (None, 14, 14, 32)        9248      \n",
      "_________________________________________________________________\n",
      "up_sampling2d_1 (UpSampling2 (None, 28, 28, 32)        0         \n",
      "_________________________________________________________________\n",
      "conv2d_4 (Conv2D)            (None, 28, 28, 1)         289       \n",
      "=================================================================\n",
      "Total params: 28,353\n",
      "Trainable params: 28,353\n",
      "Non-trainable params: 0\n",
      "_________________________________________________________________\n"
     ]
    }
   ],
   "source": [
    "input_layer = Input(shape=(28, 28, 1))\n",
    "\n",
    "x = layers.Conv2D(32, (3, 3), activation='relu', padding='same')(input_layer)\n",
    "x = layers.MaxPooling2D((2, 2), padding='same')(x)\n",
    "x = layers.Conv2D(32, (3, 3), activation='relu', padding='same')(x)\n",
    "encoded = layers.MaxPooling2D((2, 2), padding='same')(x)\n",
    "x = layers.Conv2D(32, (3, 3), activation='relu', padding='same')(encoded)\n",
    "x = layers.UpSampling2D((2, 2))(x)\n",
    "x = layers.Conv2D(32, (3, 3), activation='relu', padding='same')(x)\n",
    "x = layers.UpSampling2D((2, 2))(x)\n",
    "decoded = layers.Conv2D(1, (3, 3), activation='sigmoid', padding='same')(x)\n",
    "\n",
    "autoencoder = keras.Model(input_layer, decoded)\n",
    "autoencoder.compile(optimizer='adam', loss='binary_crossentropy')\n",
    "autoencoder.summary()"
   ]
  },
  {
   "cell_type": "code",
   "execution_count": 11,
   "metadata": {},
   "outputs": [
    {
     "name": "stdout",
     "output_type": "stream",
     "text": [
      "Epoch 1/30\n",
      "24/24 [==============================] - 3s 33ms/step - loss: -485.3189 - val_loss: -1103.5828\n",
      "Epoch 2/30\n",
      "24/24 [==============================] - 0s 18ms/step - loss: -1095.4678 - val_loss: -1103.4633\n",
      "Epoch 3/30\n",
      "24/24 [==============================] - 0s 19ms/step - loss: -1095.4398 - val_loss: -1103.4603\n",
      "Epoch 4/30\n",
      "24/24 [==============================] - 0s 18ms/step - loss: -1095.4404 - val_loss: -1103.4666\n",
      "Epoch 5/30\n",
      "24/24 [==============================] - 0s 19ms/step - loss: -1095.4580 - val_loss: -1103.5182\n",
      "Epoch 6/30\n",
      "24/24 [==============================] - 1s 21ms/step - loss: -1095.5416 - val_loss: -1103.6151\n",
      "Epoch 7/30\n",
      "24/24 [==============================] - 0s 19ms/step - loss: -1095.6476 - val_loss: -1103.7274\n",
      "Epoch 8/30\n",
      "24/24 [==============================] - 0s 19ms/step - loss: -1095.7462 - val_loss: -1103.8202\n",
      "Epoch 9/30\n",
      "24/24 [==============================] - 1s 21ms/step - loss: -1095.8895 - val_loss: -1104.0487\n",
      "Epoch 10/30\n",
      "24/24 [==============================] - 1s 24ms/step - loss: -1096.6550 - val_loss: -1105.6962\n",
      "Epoch 11/30\n",
      "24/24 [==============================] - 1s 23ms/step - loss: -1097.6399 - val_loss: -1105.9368\n",
      "Epoch 12/30\n",
      "24/24 [==============================] - 1s 24ms/step - loss: -1098.0802 - val_loss: -1106.2072\n",
      "Epoch 13/30\n",
      "24/24 [==============================] - 1s 23ms/step - loss: -1098.3591 - val_loss: -1106.5214\n",
      "Epoch 14/30\n",
      "24/24 [==============================] - 1s 21ms/step - loss: -1098.6976 - val_loss: -1106.8538\n",
      "Epoch 15/30\n",
      "24/24 [==============================] - 1s 22ms/step - loss: -1099.1028 - val_loss: -1107.3368\n",
      "Epoch 16/30\n",
      "24/24 [==============================] - 1s 21ms/step - loss: -1099.6356 - val_loss: -1107.8781\n",
      "Epoch 17/30\n",
      "24/24 [==============================] - 1s 23ms/step - loss: -1100.1299 - val_loss: -1108.3092\n",
      "Epoch 18/30\n",
      "24/24 [==============================] - 1s 23ms/step - loss: -1100.4443 - val_loss: -1108.4944\n",
      "Epoch 19/30\n",
      "24/24 [==============================] - 1s 24ms/step - loss: -1100.5897 - val_loss: -1108.6375\n",
      "Epoch 20/30\n",
      "24/24 [==============================] - 0s 21ms/step - loss: -1100.6976 - val_loss: -1108.7240\n",
      "Epoch 21/30\n",
      "24/24 [==============================] - 1s 23ms/step - loss: -1100.7736 - val_loss: -1108.7932\n",
      "Epoch 22/30\n",
      "24/24 [==============================] - 1s 24ms/step - loss: -1100.8348 - val_loss: -1108.8470\n",
      "Epoch 23/30\n",
      "24/24 [==============================] - 1s 23ms/step - loss: -1100.8831 - val_loss: -1108.8945\n",
      "Epoch 24/30\n",
      "24/24 [==============================] - 1s 23ms/step - loss: -1100.9232 - val_loss: -1108.9282\n",
      "Epoch 25/30\n",
      "24/24 [==============================] - 1s 23ms/step - loss: -1100.9568 - val_loss: -1108.9655\n",
      "Epoch 26/30\n",
      "24/24 [==============================] - 0s 19ms/step - loss: -1100.9849 - val_loss: -1108.9828\n",
      "Epoch 27/30\n",
      "24/24 [==============================] - 0s 18ms/step - loss: -1101.0090 - val_loss: -1109.0151\n",
      "Epoch 28/30\n",
      "24/24 [==============================] - 0s 18ms/step - loss: -1101.0332 - val_loss: -1109.0361\n",
      "Epoch 29/30\n",
      "24/24 [==============================] - 0s 18ms/step - loss: -1101.0527 - val_loss: -1109.0510\n",
      "Epoch 30/30\n",
      "24/24 [==============================] - 0s 18ms/step - loss: -1101.0690 - val_loss: -1109.0706\n"
     ]
    },
    {
     "data": {
      "text/plain": [
       "<tensorflow.python.keras.callbacks.History at 0x234e59ce7c0>"
      ]
     },
     "execution_count": 11,
     "metadata": {},
     "output_type": "execute_result"
    }
   ],
   "source": [
    "autoencoder.fit(x_train_noisy, X_train,\n",
    "                epochs=30,\n",
    "                batch_size=2048,\n",
    "                shuffle=True,\n",
    "                validation_data=(x_validation_noisy, X_validation))"
   ]
  },
  {
   "cell_type": "code",
   "execution_count": 12,
   "metadata": {},
   "outputs": [
    {
     "data": {
      "image/png": "[encoded data removed]",
      "text/plain": [
       "<Figure size 1440x288 with 20 Axes>"
      ]
     },
     "metadata": {
      "needs_background": "light"
     },
     "output_type": "display_data"
    }
   ],
   "source": [
    "predictions = autoencoder.predict(X_test)\n",
    "\n",
    "n = 10\n",
    "plt.figure(figsize=(20, 4))\n",
    "for i in range(n):\n",
    "    # noisy\n",
    "    ax = plt.subplot(2, n, i + 1)\n",
    "    plt.imshow(x_test_noisy[i].reshape(28, 28))\n",
    "    plt.gray()\n",
    "    ax.get_xaxis().set_visible(False)\n",
    "    ax.get_yaxis().set_visible(False)\n",
    "\n",
    "    # reconstruction\n",
    "    ax = plt.subplot(2, n, i + 1 + n)\n",
    "    plt.imshow(predictions[i].reshape(28, 28))\n",
    "    plt.gray()\n",
    "    ax.get_xaxis().set_visible(False)\n",
    "    ax.get_yaxis().set_visible(False)\n",
    "plt.show()"
   ]
  }
 ],
 "metadata": {
  "interpreter": {
   "hash": "d65f8af9b1347936d5c0a715a1a101b7602968bee42a1bc2161adfc924f1cbb0"
  },
  "kernelspec": {
   "display_name": "Python 3.9.4 64-bit",
   "name": "python3"
  },
  "language_info": {
   "codemirror_mode": {
    "name": "ipython",
    "version": 3
   },
   "file_extension": ".py",
   "mimetype": "text/x-python",
   "name": "python",
   "nbconvert_exporter": "python",
   "pygments_lexer": "ipython3",
   "version": "3.9.4"
  }
 },
 "nbformat": 4,
 "nbformat_minor": 4
}
