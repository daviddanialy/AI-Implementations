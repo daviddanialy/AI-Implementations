{
 "cells": [
  {
   "cell_type": "markdown",
   "metadata": {},
   "source": [
    "# <b>CS156 (Introduction to AI), Fall 2021</b>\n",
    "# <u><b>Homework 11 submission</b></u>"
   ]
  },
  {
   "cell_type": "markdown",
   "metadata": {},
   "source": [
    "### Roster Name: David Danialy\n",
    "### Student ID: 011187150\n",
    "### Email address: david.danialy@sjsu.edu"
   ]
  },
  {
   "cell_type": "markdown",
   "metadata": {},
   "source": [
    "##  <u>References and sources </u>"
   ]
  },
  {
   "cell_type": "markdown",
   "metadata": {},
   "source": [
    "List all your references and sources here.\n",
    "This includes all sites/discussion boards/blogs/posts/etc. where you grabbed some code examples."
   ]
  },
  {
   "cell_type": "markdown",
   "metadata": {},
   "source": [
    "##  <u>Solution</u>"
   ]
  },
  {
   "cell_type": "markdown",
   "metadata": {},
   "source": [
    "#### Load libraries and set random number generator seed"
   ]
  },
  {
   "cell_type": "code",
   "execution_count": 122,
   "metadata": {},
   "outputs": [],
   "source": [
    "import numpy as np\n",
    "import pandas as pd\n",
    "import gym\n",
    "from gym import envs"
   ]
  },
  {
   "cell_type": "code",
   "execution_count": 123,
   "metadata": {},
   "outputs": [],
   "source": [
    "np.random.seed(42)"
   ]
  },
  {
   "cell_type": "markdown",
   "metadata": {},
   "source": [
    "#### Code the solution"
   ]
  },
  {
   "cell_type": "code",
   "execution_count": 124,
   "metadata": {},
   "outputs": [
    {
     "name": "stdout",
     "output_type": "stream",
     "text": [
      "\n",
      "\u001b[41mS\u001b[0mFFF\n",
      "FHFH\n",
      "FFFH\n",
      "HFFG\n",
      "Action Space Discrete(4)\n",
      "State Space Discrete(16)\n"
     ]
    }
   ],
   "source": [
    "env = gym.make(\"FrozenLake-v1\", is_slippery=False).env \n",
    "env.seed(42)\n",
    "env.reset()\n",
    "env.render()\n",
    "\n",
    "print(\"Action Space {}\".format(env.action_space))\n",
    "print(\"State Space {}\".format(env.observation_space))"
   ]
  },
  {
   "cell_type": "code",
   "execution_count": 125,
   "metadata": {},
   "outputs": [
    {
     "name": "stdout",
     "output_type": "stream",
     "text": [
      "[[0.531441   0.59049    0.59049    0.531441  ]\n",
      " [0.531441   0.         0.6561     0.59049   ]\n",
      " [0.59049    0.729      0.59049    0.6561    ]\n",
      " [0.6561     0.         0.59049    0.58458509]\n",
      " [0.59049    0.6561     0.         0.531441  ]\n",
      " [0.         0.         0.         0.        ]\n",
      " [0.         0.81       0.         0.6561    ]\n",
      " [0.         0.         0.         0.        ]\n",
      " [0.6561     0.         0.729      0.59049   ]\n",
      " [0.6561     0.81       0.81       0.        ]\n",
      " [0.729      0.9        0.         0.729     ]\n",
      " [0.         0.         0.         0.        ]\n",
      " [0.         0.         0.         0.        ]\n",
      " [0.         0.81       0.9        0.729     ]\n",
      " [0.81       0.9        1.         0.81      ]\n",
      " [0.         0.         0.         0.        ]]\n"
     ]
    }
   ],
   "source": [
    "qtable = np.zeros([env.observation_space.n, env.action_space.n]) #You could also make this dynamic if you don't know all games states upfront\n",
    "discount = 0.9 # discount factor\n",
    "learningrate = 0.9 # learning rate\n",
    "epsilon = 0.2 # threshold of stochasticity\n",
    "for episode in range(1,50000):\n",
    "    done = False\n",
    "    reward_total = 0\n",
    "    state = env.reset()\n",
    "    while done != True:\n",
    "        explore_eploit = np.random.uniform(0, 1)\n",
    "        if explore_eploit < epsilon:\n",
    "            action = env.action_space.sample() # explore action space\n",
    "        else:\n",
    "            action = np.argmax(qtable[state]) # exploit learned values\n",
    "        \n",
    "        state_new, reward, done, info = env.step(action) #take the action\n",
    "        qtable[state,action] += learningrate * (reward + discount * np.max(qtable[state_new,:]) - qtable[state,action]) #Update Q-marix using Bellman equation\n",
    "        reward_total = reward_total + reward\n",
    "        state = state_new   \n",
    "    # if reward_total != 0.0:\n",
    "    #     print('Episode {} Total Reward: {}'.format(episode,reward_total))\n",
    "print(qtable)"
   ]
  },
  {
   "cell_type": "code",
   "execution_count": 126,
   "metadata": {},
   "outputs": [
    {
     "name": "stdout",
     "output_type": "stream",
     "text": [
      "\n",
      "\u001b[41mS\u001b[0mFFF\n",
      "FHFH\n",
      "FFFH\n",
      "HFFG\n",
      "  (Left)\n",
      "\u001b[41mS\u001b[0mFFF\n",
      "FHFH\n",
      "FFFH\n",
      "HFFG\n",
      "  (Down)\n",
      "SFFF\n",
      "\u001b[41mF\u001b[0mHFH\n",
      "FFFH\n",
      "HFFG\n",
      "  (Down)\n",
      "SFFF\n",
      "FHFH\n",
      "\u001b[41mF\u001b[0mFFH\n",
      "HFFG\n",
      "  (Right)\n",
      "SFFF\n",
      "FHFH\n",
      "F\u001b[41mF\u001b[0mFH\n",
      "HFFG\n",
      "  (Down)\n",
      "SFFF\n",
      "FHFH\n",
      "FFFH\n",
      "H\u001b[41mF\u001b[0mFG\n",
      "  (Right)\n",
      "SFFF\n",
      "FHFH\n",
      "FFFH\n",
      "HF\u001b[41mF\u001b[0mG\n",
      "  (Right)\n",
      "SFFF\n",
      "FHFH\n",
      "FFFH\n",
      "HFF\u001b[41mG\u001b[0m\n",
      "Total reward is 1.0\n"
     ]
    }
   ],
   "source": [
    "reward_total=0\n",
    "env.seed(51)\n",
    "env.reset()\n",
    "env.render()\n",
    "done=False\n",
    "while done != True: \n",
    "    action = np.argmax(qtable[obs])\n",
    "    obs, reward, done, info = env.step(action) #take step using selected action\n",
    "    reward_total = reward_total + reward\n",
    "    env.render()\n",
    "#Print the reward of these actions\n",
    "print(\"Total reward is %r\" % reward_total)  "
   ]
  }
 ],
 "metadata": {
  "kernelspec": {
   "display_name": "Python 3",
   "language": "python",
   "name": "python3"
  },
  "language_info": {
   "codemirror_mode": {
    "name": "ipython",
    "version": 3
   },
   "file_extension": ".py",
   "mimetype": "text/x-python",
   "name": "python",
   "nbconvert_exporter": "python",
   "pygments_lexer": "ipython3",
   "version": "3.9.4"
  }
 },
 "nbformat": 4,
 "nbformat_minor": 4
}
